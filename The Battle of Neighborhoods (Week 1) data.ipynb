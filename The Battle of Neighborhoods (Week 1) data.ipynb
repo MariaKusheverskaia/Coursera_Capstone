{
 "cells": [
  {
   "cell_type": "markdown",
   "metadata": {},
   "source": [
    "## Data \n",
    "\n",
    "### We will need to access following data:\n",
    "\n",
    "### - The coordinates (latitude, longitude) ot these Localities of Saint Petersburg from Open Street Map APIs\n",
    "\n",
    "### - From Foursquare we will need following venues data:\n",
    "####  - the Coffe houses venues of the Localities\n",
    "####  - the offices venues of the Localities\n",
    "####  - the high schools or universities venues of the Localities\n",
    "####  - the metro stations venues of the Localities\n",
    "\n",
    "## We will then leverage the data in order to determine which locality is the most appropriate in order to locate the Coffe house. "
   ]
  }
 ],
 "metadata": {
  "kernelspec": {
   "display_name": "Python 3",
   "language": "python",
   "name": "python3"
  },
  "language_info": {
   "codemirror_mode": {
    "name": "ipython",
    "version": 3
   },
   "file_extension": ".py",
   "mimetype": "text/x-python",
   "name": "python",
   "nbconvert_exporter": "python",
   "pygments_lexer": "ipython3",
   "version": "3.6.0"
  }
 },
 "nbformat": 4,
 "nbformat_minor": 2
}
