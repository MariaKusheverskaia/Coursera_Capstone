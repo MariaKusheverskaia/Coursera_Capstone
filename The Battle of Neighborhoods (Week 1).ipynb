{
 "cells": [
  {
   "cell_type": "markdown",
   "metadata": {},
   "source": [
    "## Introduction\n",
    "\n",
    "### A customer wants to open his Coffee house in some Locality of Saint Petersburg and he is asking our help in finding the best Locality.\n",
    "\n",
    "## Business Problem \n",
    "\n",
    "### In order to open Coffee house , we will have the need to use some information about the Localities in Saint Petersburg . We must be sure that the place where the Cafe is opened will have enough customers and also that there are not a large ammount of Coffe Houses near his place."
   ]
  }
 ],
 "metadata": {
  "kernelspec": {
   "display_name": "Python 3",
   "language": "python",
   "name": "python3"
  },
  "language_info": {
   "codemirror_mode": {
    "name": "ipython",
    "version": 3
   },
   "file_extension": ".py",
   "mimetype": "text/x-python",
   "name": "python",
   "nbconvert_exporter": "python",
   "pygments_lexer": "ipython3",
   "version": "3.6.0"
  }
 },
 "nbformat": 4,
 "nbformat_minor": 2
}
